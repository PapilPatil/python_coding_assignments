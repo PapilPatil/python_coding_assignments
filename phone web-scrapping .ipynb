{
 "cells": [
  {
   "cell_type": "code",
   "execution_count": 1,
   "metadata": {},
   "outputs": [],
   "source": [
    "from bs4 import BeautifulSoup\n",
    "import urllib\n",
    "import re\n",
    "from urllib.request import urlopen"
   ]
  },
  {
   "cell_type": "code",
   "execution_count": 7,
   "metadata": {},
   "outputs": [],
   "source": [
    "# from amazon\n",
    "r = urlopen('https://www.amazon.in/Apple-iPhone-Silver-64GB-Storage/dp/B0711T2L8K/ref=sr_1_1?s=electronics&ie=UTF8&qid=1545395024&sr=1-1&keywords=iphone+x').read()\n"
   ]
  },
  {
   "cell_type": "code",
   "execution_count": 8,
   "metadata": {},
   "outputs": [],
   "source": [
    "soup = BeautifulSoup(r,'lxml')"
   ]
  },
  {
   "cell_type": "code",
   "execution_count": 9,
   "metadata": {},
   "outputs": [
    {
     "name": "stdout",
     "output_type": "stream",
     "text": [
      "   79,999.00\n"
     ]
    }
   ],
   "source": [
    "for text in soup.findAll(id = \"priceblock_dealprice\"):\n",
    "    amazon = text.get_text()\n",
    "    print(amazon)\n"
   ]
  },
  {
   "cell_type": "code",
   "execution_count": 10,
   "metadata": {},
   "outputs": [],
   "source": [
    "amazon = amazon.strip()\n",
    "amazon = amazon.replace(',','')\n",
    "amazon = float(amazon)\n"
   ]
  },
  {
   "cell_type": "code",
   "execution_count": 11,
   "metadata": {},
   "outputs": [
    {
     "name": "stdout",
     "output_type": "stream",
     "text": [
      "<class 'float'>\n",
      "79999.0\n"
     ]
    }
   ],
   "source": [
    "print(type(amazon))\n",
    "print(amazon)"
   ]
  },
  {
   "cell_type": "code",
   "execution_count": null,
   "metadata": {},
   "outputs": [],
   "source": []
  },
  {
   "cell_type": "code",
   "execution_count": 46,
   "metadata": {},
   "outputs": [],
   "source": [
    "# from flipkart\n",
    "r = urlopen('https://www.flipkart.com/apple-iphone-x-silver-64-gb/p/itmexrgvze5as67e?pid=MOBEXRGVF8NHMGXJ&srno=s_1_3&otracker=search&lid=LSTMOBEXRGVF8NHMGXJD0Q1WF&fm=SEARCH&iid=021dc593-b961-4400-aaf8-88aa1258af66.MOBEXRGVF8NHMGXJ.SEARCH&ppt=Homepage&ppn=Homepage&ssid=u8tmc1llgg0000001545427063805&qH=6289731882875e31').read()\n"
   ]
  },
  {
   "cell_type": "code",
   "execution_count": 47,
   "metadata": {},
   "outputs": [],
   "source": [
    "soup = BeautifulSoup(r,'lxml')"
   ]
  },
  {
   "cell_type": "code",
   "execution_count": 56,
   "metadata": {},
   "outputs": [],
   "source": [
    "extract =  soup.findAll('div',{'class':'_1vC4OE _3qQ9m1'})\n",
    "for cost in extract:\n",
    "    flipkart = cost.text\n"
   ]
  },
  {
   "cell_type": "code",
   "execution_count": 57,
   "metadata": {},
   "outputs": [],
   "source": [
    "flipkart = flipkart.strip()\n",
    "flipkart = flipkart.replace(',','')\n",
    "flipkart = flipkart.replace('₹','')\n",
    "flipkart = float(flipkart)\n",
    "\n"
   ]
  },
  {
   "cell_type": "code",
   "execution_count": 58,
   "metadata": {},
   "outputs": [
    {
     "name": "stdout",
     "output_type": "stream",
     "text": [
      "<class 'float'>\n",
      "82000.0\n"
     ]
    }
   ],
   "source": [
    "print(type(flipkart))\n",
    "print(flipkart)"
   ]
  },
  {
   "cell_type": "code",
   "execution_count": null,
   "metadata": {},
   "outputs": [],
   "source": []
  },
  {
   "cell_type": "code",
   "execution_count": 59,
   "metadata": {},
   "outputs": [],
   "source": [
    "# snap deal "
   ]
  },
  {
   "cell_type": "code",
   "execution_count": 60,
   "metadata": {},
   "outputs": [],
   "source": [
    "r = urlopen('https://www.ebay.com/itm/Apple-iPhone-X-64GB-Space-Gray-Unlocked-A1865-CDMA-GSM/254024041643?epid=240377072&hash=item3b250344ab:g:u8YAAOSw5YlcDHBg:rk:3:pf:0').read()\n"
   ]
  },
  {
   "cell_type": "code",
   "execution_count": 61,
   "metadata": {},
   "outputs": [],
   "source": [
    "soup = BeautifulSoup(r,'lxml')"
   ]
  },
  {
   "cell_type": "code",
   "execution_count": 63,
   "metadata": {},
   "outputs": [
    {
     "name": "stdout",
     "output_type": "stream",
     "text": [
      "US $799.99\n"
     ]
    }
   ],
   "source": [
    "for text in soup.findAll(id = \"prcIsum\"):\n",
    "    ebay_cost_dollars = text.get_text()\n",
    "    print(ebay)"
   ]
  },
  {
   "cell_type": "code",
   "execution_count": 66,
   "metadata": {},
   "outputs": [],
   "source": [
    "ebay_cost_dollars.strip()\n",
    "ebay_cost_dollars = ebay_cost_dollars.replace('US','')\n",
    "ebay_cost_dollars.strip()\n",
    "ebay_cost_dollars =ebay_cost_dollars.replace('$','')\n",
    "ebay_cost_dollars = float(ebay_cost_dollars)"
   ]
  },
  {
   "cell_type": "code",
   "execution_count": 67,
   "metadata": {},
   "outputs": [
    {
     "name": "stdout",
     "output_type": "stream",
     "text": [
      "<class 'float'>\n",
      "799.99\n"
     ]
    }
   ],
   "source": [
    "print(type(ebay_cost_dollars))\n",
    "print(ebay_cost_dollars)"
   ]
  },
  {
   "cell_type": "code",
   "execution_count": 72,
   "metadata": {},
   "outputs": [
    {
     "data": {
      "text/plain": [
       "59999.25"
      ]
     },
     "execution_count": 72,
     "metadata": {},
     "output_type": "execute_result"
    }
   ],
   "source": [
    "ebay = ebay_cost_dollars*75\n",
    "ebay"
   ]
  },
  {
   "cell_type": "code",
   "execution_count": 73,
   "metadata": {},
   "outputs": [
    {
     "name": "stdout",
     "output_type": "stream",
     "text": [
      "\n",
      "$15.00\n",
      "\n"
     ]
    }
   ],
   "source": [
    "for text in soup.findAll(id = \"fshippingCost\"):\n",
    "    ebay_shipping_dollars = text.get_text()\n",
    "    print(ebay_shipping_dollars)"
   ]
  },
  {
   "cell_type": "code",
   "execution_count": 74,
   "metadata": {},
   "outputs": [],
   "source": [
    "ebay_shipping_dollars = ebay_shipping_dollars.strip()\n",
    "ebay_shipping_dollars = ebay_shipping_dollars.replace('$','')\n",
    "ebay_shipping_dollars = float(ebay_shipping_dollars)"
   ]
  },
  {
   "cell_type": "code",
   "execution_count": 75,
   "metadata": {},
   "outputs": [
    {
     "name": "stdout",
     "output_type": "stream",
     "text": [
      "<class 'float'>\n",
      "15.0\n"
     ]
    }
   ],
   "source": [
    "print(type(ebay_shipping_dollars))\n",
    "print(ebay_shipping_dollars)"
   ]
  },
  {
   "cell_type": "code",
   "execution_count": 76,
   "metadata": {},
   "outputs": [
    {
     "data": {
      "text/plain": [
       "1125.0"
      ]
     },
     "execution_count": 76,
     "metadata": {},
     "output_type": "execute_result"
    }
   ],
   "source": [
    "ebay_shipping = ebay_shipping_dollars * 75\n",
    "ebay_shipping"
   ]
  },
  {
   "cell_type": "code",
   "execution_count": 77,
   "metadata": {},
   "outputs": [
    {
     "data": {
      "text/plain": [
       "61124.25"
      ]
     },
     "execution_count": 77,
     "metadata": {},
     "output_type": "execute_result"
    }
   ],
   "source": [
    "ebay = ebay + ebay_shipping\n",
    "ebay"
   ]
  },
  {
   "cell_type": "code",
   "execution_count": null,
   "metadata": {},
   "outputs": [],
   "source": []
  },
  {
   "cell_type": "code",
   "execution_count": 110,
   "metadata": {},
   "outputs": [],
   "source": [
    "# from jio \n",
    "\n"
   ]
  },
  {
   "cell_type": "code",
   "execution_count": 117,
   "metadata": {},
   "outputs": [],
   "source": [
    "r = urlopen('https://www.jio.com/shop/buy-iphone-x').read()\n",
    "\n"
   ]
  },
  {
   "cell_type": "code",
   "execution_count": 118,
   "metadata": {},
   "outputs": [],
   "source": [
    "soup = BeautifulSoup(r,'lxml')"
   ]
  },
  {
   "cell_type": "code",
   "execution_count": 144,
   "metadata": {},
   "outputs": [],
   "source": [
    "extract =  soup.findAll('div',{'class':'apl-img1 active'})\n",
    "for cost in extract:\n",
    "    jio_buy = cost.text\n",
    "    "
   ]
  },
  {
   "cell_type": "code",
   "execution_count": 145,
   "metadata": {},
   "outputs": [
    {
     "data": {
      "text/plain": [
       "'MRP₹            89,000'"
      ]
     },
     "execution_count": 145,
     "metadata": {},
     "output_type": "execute_result"
    }
   ],
   "source": [
    "jio_buy\n"
   ]
  },
  {
   "cell_type": "code",
   "execution_count": 152,
   "metadata": {},
   "outputs": [],
   "source": [
    "jio_buy = jio_buy.strip()\n",
    "jio_buy = jio_buy.replace('MRP₹','')\n",
    "jio_buy = jio_buy.strip()\n",
    "jio_buy = jio_buy.replace(',','')\n",
    "jio_buy = float(jio_buy)"
   ]
  },
  {
   "cell_type": "code",
   "execution_count": 153,
   "metadata": {},
   "outputs": [
    {
     "name": "stdout",
     "output_type": "stream",
     "text": [
      "<class 'float'>\n",
      "89000.0\n"
     ]
    }
   ],
   "source": [
    "print(type(jio_buy))\n",
    "print(jio_buy)"
   ]
  },
  {
   "cell_type": "code",
   "execution_count": null,
   "metadata": {},
   "outputs": [],
   "source": []
  },
  {
   "cell_type": "code",
   "execution_count": 154,
   "metadata": {},
   "outputs": [],
   "source": [
    "# airtel "
   ]
  },
  {
   "cell_type": "code",
   "execution_count": 155,
   "metadata": {},
   "outputs": [],
   "source": [
    "r = urlopen('https://www.airtel.in/onlinestore/mobile/Buy-iPhone-X-Space-Grey-64GB').read()"
   ]
  },
  {
   "cell_type": "code",
   "execution_count": 156,
   "metadata": {},
   "outputs": [],
   "source": [
    "soup = BeautifulSoup(r,'lxml')"
   ]
  },
  {
   "cell_type": "code",
   "execution_count": 157,
   "metadata": {},
   "outputs": [],
   "source": [
    "extract =  soup.findAll('span',{'class':'fs-20 color-red'})\n",
    "for cost in extract:\n",
    "    airtel_buy = cost.text"
   ]
  },
  {
   "cell_type": "code",
   "execution_count": 159,
   "metadata": {},
   "outputs": [],
   "source": [
    "airtel_buy = airtel_buy.strip()\n",
    "airtel_buy = airtel_buy.replace('Rs.','')\n",
    "airtel_buy = airtel_buy.strip()\n",
    "airtel_buy = float(airtel_buy)"
   ]
  },
  {
   "cell_type": "code",
   "execution_count": 160,
   "metadata": {},
   "outputs": [
    {
     "name": "stdout",
     "output_type": "stream",
     "text": [
      "<class 'float'>\n",
      "88600.0\n"
     ]
    }
   ],
   "source": [
    "print(type(airtel_buy))\n",
    "print(airtel_buy)"
   ]
  },
  {
   "cell_type": "code",
   "execution_count": null,
   "metadata": {},
   "outputs": [],
   "source": []
  },
  {
   "cell_type": "code",
   "execution_count": 161,
   "metadata": {},
   "outputs": [],
   "source": [
    "# paytm mall "
   ]
  },
  {
   "cell_type": "code",
   "execution_count": 162,
   "metadata": {},
   "outputs": [],
   "source": [
    "r = urlopen('https://paytmmall.com/apple-iphone-x-64-gb-silver-CMPLXMOBAPPLE-IPHONEDUMM141720689E4-pdp').read()"
   ]
  },
  {
   "cell_type": "code",
   "execution_count": 163,
   "metadata": {},
   "outputs": [],
   "source": [
    "soup = BeautifulSoup(r,'lxml')"
   ]
  },
  {
   "cell_type": "code",
   "execution_count": 168,
   "metadata": {},
   "outputs": [],
   "source": [
    "extract =  soup.findAll('span',{'class':'_1V3w'})\n",
    "for cost in extract:\n",
    "    paytm_mall = cost.text"
   ]
  },
  {
   "cell_type": "code",
   "execution_count": 169,
   "metadata": {},
   "outputs": [
    {
     "data": {
      "text/plain": [
       "'82,106'"
      ]
     },
     "execution_count": 169,
     "metadata": {},
     "output_type": "execute_result"
    }
   ],
   "source": [
    "paytm_mall"
   ]
  },
  {
   "cell_type": "code",
   "execution_count": 170,
   "metadata": {},
   "outputs": [],
   "source": [
    "paytm_mall = paytm_mall.strip()\n",
    "paytm_mall = paytm_mall.replace(',','')\n",
    "paytm_mall = float(paytm_mall)\n"
   ]
  },
  {
   "cell_type": "code",
   "execution_count": 171,
   "metadata": {},
   "outputs": [
    {
     "name": "stdout",
     "output_type": "stream",
     "text": [
      "<class 'float'>\n",
      "82106.0\n"
     ]
    }
   ],
   "source": [
    "print(type(paytm_mall))\n",
    "print(paytm_mall)"
   ]
  },
  {
   "cell_type": "code",
   "execution_count": null,
   "metadata": {},
   "outputs": [],
   "source": []
  },
  {
   "cell_type": "code",
   "execution_count": 172,
   "metadata": {},
   "outputs": [],
   "source": [
    "# tata cliq"
   ]
  },
  {
   "cell_type": "code",
   "execution_count": 206,
   "metadata": {},
   "outputs": [],
   "source": [
    "r = urlopen('https://www.shopclues.com/apple-iphone-x-64-gb-3-gb-64-gb-space-grey-133155873.html?ty=0&id=179776195&mcid=aff&tid=nh&utm_source=Mysmartprice&OfferId=15&utm_keyword=').read()\n"
   ]
  },
  {
   "cell_type": "code",
   "execution_count": 207,
   "metadata": {},
   "outputs": [],
   "source": [
    "soup = BeautifulSoup(r,'lxml')"
   ]
  },
  {
   "cell_type": "code",
   "execution_count": 208,
   "metadata": {},
   "outputs": [],
   "source": [
    "\n",
    "extract =  soup.findAll('span',{'class':'f_price'})\n",
    "for cost in extract:\n",
    "    shopclues = cost.text"
   ]
  },
  {
   "cell_type": "code",
   "execution_count": 211,
   "metadata": {},
   "outputs": [],
   "source": [
    "shopclues = shopclues.strip()\n",
    "shopclues = shopclues.replace('Rs.','')\n",
    "shopclues = shopclues.replace(',','')\n",
    "shopclues = float(shopclues)"
   ]
  },
  {
   "cell_type": "code",
   "execution_count": 212,
   "metadata": {},
   "outputs": [
    {
     "name": "stdout",
     "output_type": "stream",
     "text": [
      "<class 'float'>\n",
      "88950.0\n"
     ]
    }
   ],
   "source": [
    "print(type(shopclues))\n",
    "print(shopclues)"
   ]
  },
  {
   "cell_type": "code",
   "execution_count": null,
   "metadata": {},
   "outputs": [],
   "source": []
  },
  {
   "cell_type": "code",
   "execution_count": 213,
   "metadata": {},
   "outputs": [],
   "source": [
    "# creating web_scrapped data DataFrame"
   ]
  },
  {
   "cell_type": "code",
   "execution_count": 214,
   "metadata": {},
   "outputs": [],
   "source": [
    "import numpy as np\n",
    "import pandas as pd\n",
    "from pandas import Series, DataFrame\n",
    "\n",
    "import matplotlib.pyplot as plt\n",
    "from pylab import rcParams\n",
    "\n",
    "import seaborn as sb"
   ]
  },
  {
   "cell_type": "code",
   "execution_count": 215,
   "metadata": {},
   "outputs": [],
   "source": [
    "%matplotlib inline\n",
    "rcParams['figure.figsize'] = 10,10\n",
    "sb.set_style('whitegrid')"
   ]
  },
  {
   "cell_type": "code",
   "execution_count": 220,
   "metadata": {},
   "outputs": [],
   "source": [
    "df = DataFrame([amazon,flipkart,ebay,jio_buy,airtel_buy,paytm_mall,shopclues])"
   ]
  },
  {
   "cell_type": "code",
   "execution_count": 221,
   "metadata": {},
   "outputs": [],
   "source": [
    "df = df.T"
   ]
  },
  {
   "cell_type": "code",
   "execution_count": 227,
   "metadata": {},
   "outputs": [
    {
     "data": {
      "text/html": [
       "<div>\n",
       "<style scoped>\n",
       "    .dataframe tbody tr th:only-of-type {\n",
       "        vertical-align: middle;\n",
       "    }\n",
       "\n",
       "    .dataframe tbody tr th {\n",
       "        vertical-align: top;\n",
       "    }\n",
       "\n",
       "    .dataframe thead th {\n",
       "        text-align: right;\n",
       "    }\n",
       "</style>\n",
       "<table border=\"1\" class=\"dataframe\">\n",
       "  <thead>\n",
       "    <tr style=\"text-align: right;\">\n",
       "      <th></th>\n",
       "      <th>Amazon</th>\n",
       "      <th>Flipkart</th>\n",
       "      <th>Ebay</th>\n",
       "      <th>Jio Buy</th>\n",
       "      <th>Airtel Buy</th>\n",
       "      <th>PayTM Mall</th>\n",
       "      <th>Shopclues</th>\n",
       "    </tr>\n",
       "    <tr>\n",
       "      <th>Iphone X cost</th>\n",
       "      <th></th>\n",
       "      <th></th>\n",
       "      <th></th>\n",
       "      <th></th>\n",
       "      <th></th>\n",
       "      <th></th>\n",
       "      <th></th>\n",
       "    </tr>\n",
       "  </thead>\n",
       "  <tbody>\n",
       "    <tr>\n",
       "      <th>0</th>\n",
       "      <td>79999</td>\n",
       "      <td>82000</td>\n",
       "      <td>61124.2</td>\n",
       "      <td>89000</td>\n",
       "      <td>82,106</td>\n",
       "      <td>82106</td>\n",
       "      <td>88950</td>\n",
       "    </tr>\n",
       "  </tbody>\n",
       "</table>\n",
       "</div>"
      ],
      "text/plain": [
       "              Amazon Flipkart     Ebay Jio Buy Airtel Buy PayTM Mall Shopclues\n",
       "Iphone X cost                                                                 \n",
       "0              79999    82000  61124.2   89000     82,106      82106     88950"
      ]
     },
     "execution_count": 227,
     "metadata": {},
     "output_type": "execute_result"
    }
   ],
   "source": [
    "df.columns = [\"Amazon\",\"Flipkart\",\"Ebay\",\"Jio Buy\",\"Airtel Buy\",\"PayTM Mall\",\"Shopclues\"]\n",
    "df.index.names = ['Iphone X cost']\n",
    "df"
   ]
  },
  {
   "cell_type": "code",
   "execution_count": 231,
   "metadata": {},
   "outputs": [
    {
     "data": {
      "text/html": [
       "<div>\n",
       "<style scoped>\n",
       "    .dataframe tbody tr th:only-of-type {\n",
       "        vertical-align: middle;\n",
       "    }\n",
       "\n",
       "    .dataframe tbody tr th {\n",
       "        vertical-align: top;\n",
       "    }\n",
       "\n",
       "    .dataframe thead th {\n",
       "        text-align: right;\n",
       "    }\n",
       "</style>\n",
       "<table border=\"1\" class=\"dataframe\">\n",
       "  <thead>\n",
       "    <tr style=\"text-align: right;\">\n",
       "      <th></th>\n",
       "      <th>Amazon</th>\n",
       "      <th>Flipkart</th>\n",
       "      <th>Ebay</th>\n",
       "      <th>Jio Buy</th>\n",
       "      <th>Airtel Buy</th>\n",
       "      <th>PayTM Mall</th>\n",
       "      <th>Shopclues</th>\n",
       "    </tr>\n",
       "  </thead>\n",
       "  <tbody>\n",
       "    <tr>\n",
       "      <th>count</th>\n",
       "      <td>1.0</td>\n",
       "      <td>1.0</td>\n",
       "      <td>1.00</td>\n",
       "      <td>1.0</td>\n",
       "      <td>1</td>\n",
       "      <td>1.0</td>\n",
       "      <td>1.0</td>\n",
       "    </tr>\n",
       "    <tr>\n",
       "      <th>unique</th>\n",
       "      <td>1.0</td>\n",
       "      <td>1.0</td>\n",
       "      <td>1.00</td>\n",
       "      <td>1.0</td>\n",
       "      <td>1</td>\n",
       "      <td>1.0</td>\n",
       "      <td>1.0</td>\n",
       "    </tr>\n",
       "    <tr>\n",
       "      <th>top</th>\n",
       "      <td>79999.0</td>\n",
       "      <td>82000.0</td>\n",
       "      <td>61124.25</td>\n",
       "      <td>89000.0</td>\n",
       "      <td>82,106</td>\n",
       "      <td>82106.0</td>\n",
       "      <td>88950.0</td>\n",
       "    </tr>\n",
       "    <tr>\n",
       "      <th>freq</th>\n",
       "      <td>1.0</td>\n",
       "      <td>1.0</td>\n",
       "      <td>1.00</td>\n",
       "      <td>1.0</td>\n",
       "      <td>1</td>\n",
       "      <td>1.0</td>\n",
       "      <td>1.0</td>\n",
       "    </tr>\n",
       "  </tbody>\n",
       "</table>\n",
       "</div>"
      ],
      "text/plain": [
       "         Amazon  Flipkart      Ebay  Jio Buy Airtel Buy  PayTM Mall  Shopclues\n",
       "count       1.0       1.0      1.00      1.0          1         1.0        1.0\n",
       "unique      1.0       1.0      1.00      1.0          1         1.0        1.0\n",
       "top     79999.0   82000.0  61124.25  89000.0     82,106     82106.0    88950.0\n",
       "freq        1.0       1.0      1.00      1.0          1         1.0        1.0"
      ]
     },
     "execution_count": 231,
     "metadata": {},
     "output_type": "execute_result"
    }
   ],
   "source": [
    "df.describe()"
   ]
  },
  {
   "cell_type": "code",
   "execution_count": 246,
   "metadata": {},
   "outputs": [
    {
     "data": {
      "text/plain": [
       "<matplotlib.axes._subplots.AxesSubplot at 0x29c23fb60b8>"
      ]
     },
     "execution_count": 246,
     "metadata": {},
     "output_type": "execute_result"
    },
    {
     "data": {
      "image/png": "[encoded data removed]",
      "text/plain": [
       "<Figure size 720x720 with 1 Axes>"
      ]
     },
     "metadata": {},
     "output_type": "display_data"
    }
   ],
   "source": [
    "sb.barplot(data=df, palette= \"hls\")"
   ]
  },
  {
   "cell_type": "code",
   "execution_count": null,
   "metadata": {},
   "outputs": [],
   "source": []
  },
  {
   "cell_type": "code",
   "execution_count": null,
   "metadata": {},
   "outputs": [],
   "source": []
  }
 ],
 "metadata": {
  "kernelspec": {
   "display_name": "Python 3",
   "language": "python",
   "name": "python3"
  },
  "language_info": {
   "codemirror_mode": {
    "name": "ipython",
    "version": 3
   },
   "file_extension": ".py",
   "mimetype": "text/x-python",
   "name": "python",
   "nbconvert_exporter": "python",
   "pygments_lexer": "ipython3",
   "version": "3.7.0"
  }
 },
 "nbformat": 4,
 "nbformat_minor": 2
}
